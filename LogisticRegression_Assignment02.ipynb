{
  "cells": [
    {
      "cell_type": "markdown",
      "metadata": {
        "id": "o7EPSgFVVNF3"
      },
      "source": [
        "## Multi Variate Logistic Regression\n",
        "- The notebook implements a logistic regression model to classify bank notes as 'authentic' or 'fake'\n",
        "- We use a data set with the following features;\n",
        "    - Variance of Wavelet Transformed image (continuous)\n",
        "    - Skewness of Wavelet Transformed image (continuous)\n",
        "    - Curtosis of Wavelet Transformed image (continuous)\n",
        "    - Entropy of image (continuous)\n",
        "    - Class (integer)\n",
        "- Total Instance : 1372\n",
        "- Data Source\n",
        "    - https://archive.ics.uci.edu/ml/datasets/banknote+authentication"
      ]
    },
    {
      "cell_type": "markdown",
      "metadata": {
        "id": "6beKKFTgVNF7"
      },
      "source": [
        "## Assignment\n",
        "1. Consider the Logistic Regression Model for bank notes authentication (see 02_LogisticRegression.ipynb)\n",
        "2. Study about regularization in Scikit-learn\n",
        "3. Incorporate regularization in the bank notes authentication model.(3 points)\n",
        "4. Draw a confusion matrix for the out of sample data (3 points)\n",
        "5. Improve the accuracy of the model on out of sample data (4 points)"
      ]
    },
    {
      "cell_type": "code",
      "execution_count": null,
      "metadata": {
        "id": "unyS9FsUVNF7"
      },
      "outputs": [],
      "source": [
        "import pandas as pd\n",
        "import numpy as np\n",
        "from sklearn.linear_model import LogisticRegression\n",
        "from sklearn import preprocessing"
      ]
    },
    {
      "cell_type": "markdown",
      "metadata": {
        "id": "VHyyje2RVNF8"
      },
      "source": [
        "- Import some modules from sklearn Library for regularization\n",
        "\n",
        "*   List item\n",
        "*   List item\n",
        "\n"
      ]
    },
    {
      "cell_type": "code",
      "execution_count": null,
      "metadata": {
        "id": "1uaAy4zkVNF9",
        "outputId": "25eab6b2-2561-4043-bef7-97d6c3688d4c"
      },
      "outputs": [
        {
          "name": "stdout",
          "output_type": "stream",
          "text": [
            "Requirement already satisfied: seaborn in c:\\users\\hamid ali khan\\anaconda3\\lib\\site-packages (0.9.0)\n",
            "Requirement already satisfied: scipy>=0.14.0 in c:\\users\\hamid ali khan\\anaconda3\\lib\\site-packages (from seaborn) (1.2.1)\n",
            "Requirement already satisfied: numpy>=1.9.3 in c:\\users\\hamid ali khan\\anaconda3\\lib\\site-packages (from seaborn) (1.16.2)\n",
            "Requirement already satisfied: pandas>=0.15.2 in c:\\users\\hamid ali khan\\anaconda3\\lib\\site-packages (from seaborn) (0.24.2)\n",
            "Requirement already satisfied: matplotlib>=1.4.3 in c:\\users\\hamid ali khan\\anaconda3\\lib\\site-packages (from seaborn) (3.0.3)\n",
            "Requirement already satisfied: pytz>=2011k in c:\\users\\hamid ali khan\\anaconda3\\lib\\site-packages (from pandas>=0.15.2->seaborn) (2018.9)\n",
            "Requirement already satisfied: python-dateutil>=2.5.0 in c:\\users\\hamid ali khan\\anaconda3\\lib\\site-packages (from pandas>=0.15.2->seaborn) (2.8.0)\n",
            "Requirement already satisfied: cycler>=0.10 in c:\\users\\hamid ali khan\\anaconda3\\lib\\site-packages (from matplotlib>=1.4.3->seaborn) (0.10.0)\n",
            "Requirement already satisfied: kiwisolver>=1.0.1 in c:\\users\\hamid ali khan\\anaconda3\\lib\\site-packages (from matplotlib>=1.4.3->seaborn) (1.0.1)\n",
            "Requirement already satisfied: pyparsing!=2.0.4,!=2.1.2,!=2.1.6,>=2.0.1 in c:\\users\\hamid ali khan\\anaconda3\\lib\\site-packages (from matplotlib>=1.4.3->seaborn) (2.3.1)\n",
            "Requirement already satisfied: six>=1.5 in c:\\users\\hamid ali khan\\anaconda3\\lib\\site-packages (from python-dateutil>=2.5.0->pandas>=0.15.2->seaborn) (1.12.0)\n",
            "Requirement already satisfied: setuptools in c:\\users\\hamid ali khan\\anaconda3\\lib\\site-packages (from kiwisolver>=1.0.1->matplotlib>=1.4.3->seaborn) (40.8.0)\n"
          ]
        }
      ],
      "source": [
        "!pip install seaborn"
      ]
    },
    {
      "cell_type": "code",
      "execution_count": null,
      "metadata": {
        "id": "s3U5XQ2LVNF-"
      },
      "outputs": [],
      "source": [
        "from sklearn.linear_model import Ridge\n",
        "from sklearn.preprocessing import PolynomialFeatures\n",
        "from sklearn.pipeline import Pipeline\n",
        "from sklearn.preprocessing import StandardScaler\n",
        "from sklearn.linear_model import ElasticNet\n",
        "from sklearn.linear_model import Lasso\n",
        "from sklearn.metrics import confusion_matrix, accuracy_score\n",
        "from matplotlib import pyplot as plt\n",
        "import seaborn as sns"
      ]
    },
    {
      "cell_type": "code",
      "execution_count": null,
      "metadata": {
        "id": "HRt85E1RVNF-"
      },
      "outputs": [],
      "source": [
        "from sklearn.model_selection import KFold"
      ]
    },
    {
      "cell_type": "code",
      "execution_count": null,
      "metadata": {
        "id": "NQ6EDGeGVNF_"
      },
      "outputs": [],
      "source": [
        "kfold = KFold(5, True, 1)"
      ]
    },
    {
      "cell_type": "code",
      "execution_count": null,
      "metadata": {
        "id": "lsFL4AE5VNF_"
      },
      "outputs": [],
      "source": [
        "split = kfold.split()"
      ]
    },
    {
      "cell_type": "markdown",
      "metadata": {
        "id": "h8p6h8HQVNGA"
      },
      "source": [
        "## Regularization\n",
        "- There are two regularization technique in Sklearn L1 (Lasso) and L2 (Rigde)\n",
        "- L1 (Lasso) tries to estimate the median of the data. It helps in feature selection by eliminating the features that are not important, this helps when number of features are large in number.\n",
        "- L2 (Rigde) tries to estimate the mean of the data to avoid overfitting.\n"
      ]
    },
    {
      "cell_type": "markdown",
      "metadata": {
        "id": "WUg8TM8eVNGA"
      },
      "source": [
        "## Reading the data"
      ]
    },
    {
      "cell_type": "code",
      "execution_count": null,
      "metadata": {
        "id": "SKeMYUvFVNGA"
      },
      "outputs": [],
      "source": [
        "path = \"02_bankNote.csv\"\n",
        "df = pd.read_csv(path)\n",
        "\n",
        "X = df.iloc[:, :-1]\n",
        "Y = df.iloc[:,4]"
      ]
    },
    {
      "cell_type": "code",
      "execution_count": null,
      "metadata": {
        "id": "bGjS3RbrVNGB"
      },
      "outputs": [],
      "source": [
        "from sklearn.preprocessing import RobustScaler\n",
        "scaler =  preprocessing.RobustScaler()\n",
        "X = scaler.fit_transform(X)"
      ]
    },
    {
      "cell_type": "code",
      "execution_count": null,
      "metadata": {
        "id": "SLSS3QUxVNGB"
      },
      "outputs": [],
      "source": [
        "from sklearn.model_selection import train_test_split\n",
        "X_train, X_test, Y_train, Y_test = train_test_split(X, Y, test_size=0.25, random_state=0)"
      ]
    },
    {
      "cell_type": "code",
      "execution_count": null,
      "metadata": {
        "id": "qaR-FMXhVNGC",
        "outputId": "9bf8f6be-7f16-4695-e8bb-a68ffa899ccf"
      },
      "outputs": [
        {
          "name": "stdout",
          "output_type": "stream",
          "text": [
            "1029\n",
            "1029\n",
            "343\n",
            "343\n"
          ]
        }
      ],
      "source": [
        "print(len(X_train))\n",
        "print(len(Y_train))\n",
        "print(len(X_test))\n",
        "print(len(Y_test))"
      ]
    },
    {
      "cell_type": "markdown",
      "metadata": {
        "id": "6GjQMdBCVNGC"
      },
      "source": [
        "## Logistic Regression With penalty L1"
      ]
    },
    {
      "cell_type": "code",
      "execution_count": null,
      "metadata": {
        "id": "W6t4X5zcVNGC",
        "outputId": "376e407e-be31-4f55-f5e1-22289768728e"
      },
      "outputs": [
        {
          "name": "stdout",
          "output_type": "stream",
          "text": [
            "[0.]\n",
            "[[0. 0. 0. 0.]]\n"
          ]
        }
      ],
      "source": [
        "model_l1 = LogisticRegression(penalty='l1', C=0.003, solver='liblinear')\n",
        "model_l1.fit(X_train,Y_train)\n",
        "\n",
        "print(model_l1.intercept_)\n",
        "print(model_l1.coef_)"
      ]
    },
    {
      "cell_type": "markdown",
      "metadata": {
        "id": "jzc9y9-KVNGC"
      },
      "source": [
        "## Logistic Regression With penalty L2"
      ]
    },
    {
      "cell_type": "code",
      "execution_count": null,
      "metadata": {
        "id": "VA1deSC_VNGD",
        "outputId": "5c968b44-9abb-4874-b9fc-323c9c236f4a"
      },
      "outputs": [
        {
          "name": "stdout",
          "output_type": "stream",
          "text": [
            "[-0.36109873]\n",
            "[[-5.03366307 -4.23564394 -2.85547841  0.        ]]\n"
          ]
        }
      ],
      "source": [
        "model_l2 = LogisticRegression(penalty='l1', C=0.1, solver='liblinear')\n",
        "model_l2.fit(X_train,Y_train)\n",
        "\n",
        "print(model_l2.intercept_)\n",
        "print(model_l2.coef_)"
      ]
    },
    {
      "cell_type": "code",
      "execution_count": null,
      "metadata": {
        "id": "vQWA9cU0VNGD"
      },
      "outputs": [],
      "source": [
        "score_l1 = model_l1.score(X_test, Y_test)"
      ]
    },
    {
      "cell_type": "code",
      "execution_count": null,
      "metadata": {
        "id": "YFClhKabVNGD"
      },
      "outputs": [],
      "source": [
        "score_l2 = model_l2.score(X_test, Y_test)"
      ]
    },
    {
      "cell_type": "code",
      "execution_count": null,
      "metadata": {
        "id": "eKMaOyI3VNGD",
        "outputId": "3291159e-4490-4a85-f3c3-c8b665bee1c6"
      },
      "outputs": [
        {
          "data": {
            "text/plain": [
              "0.5685131195335277"
            ]
          },
          "execution_count": 244,
          "metadata": {},
          "output_type": "execute_result"
        }
      ],
      "source": [
        "score_l1"
      ]
    },
    {
      "cell_type": "code",
      "execution_count": null,
      "metadata": {
        "id": "yrV0GA7-VNGE",
        "outputId": "d24817fc-3250-408b-834d-038d3baa632b"
      },
      "outputs": [
        {
          "data": {
            "text/plain": [
              "0.9650145772594753"
            ]
          },
          "execution_count": 245,
          "metadata": {},
          "output_type": "execute_result"
        }
      ],
      "source": [
        "score_l2"
      ]
    },
    {
      "cell_type": "markdown",
      "metadata": {
        "id": "QeXFXK03VNGE"
      },
      "source": [
        "## Applying L2 Regularization  (Rigde)"
      ]
    },
    {
      "cell_type": "code",
      "execution_count": null,
      "metadata": {
        "id": "3m_JuWk7VNGE",
        "outputId": "91543ed9-beff-44aa-96af-d6dea881249c"
      },
      "outputs": [
        {
          "name": "stdout",
          "output_type": "stream",
          "text": [
            "train accuracy ridge: 0.9963556851311953\n"
          ]
        }
      ],
      "source": [
        "steps = [\n",
        "    ('scalar', StandardScaler()),\n",
        "    ('poly', PolynomialFeatures(degree=2)),\n",
        "    ('model', Ridge(alpha=10, fit_intercept=True))\n",
        "]\n",
        "\n",
        "ridge_pipe = Pipeline(steps)\n",
        "ridge_pipe.fit(X, Y)\n",
        "\n",
        "#######################################\n",
        "# Accuracy\n",
        "# score = model.score(X_test, Y_test)\n",
        "y_pred = ridge_pipe.predict(X)\n",
        "\n",
        "y_pred[y_pred<0.5]=0\n",
        "y_pred[y_pred>=0.5]=1\n",
        "\n",
        "score = accuracy_score(Y, y_pred)\n",
        "print(\"train accuracy ridge:\", score)"
      ]
    },
    {
      "cell_type": "markdown",
      "metadata": {
        "id": "FXa4PCQ9VNGE"
      },
      "source": [
        "## Applying L1 Regulatization (Lasso)"
      ]
    },
    {
      "cell_type": "code",
      "execution_count": null,
      "metadata": {
        "id": "lm4Obgd7VNGF",
        "outputId": "7aee1184-55a3-48aa-c1d6-51b7dc21b31d"
      },
      "outputs": [
        {
          "name": "stdout",
          "output_type": "stream",
          "text": [
            "train accuracy lasso: 0.989067055393586\n"
          ]
        }
      ],
      "source": [
        "steps = [\n",
        "    ('scalar', StandardScaler()),\n",
        "    ('poly', PolynomialFeatures(degree=2)),\n",
        "    ('model', Lasso(alpha=0.003, fit_intercept=True))\n",
        "]\n",
        "\n",
        "lasso_pipe = Pipeline(steps)\n",
        "\n",
        "lasso_pipe.fit(X, Y)\n",
        "###############################\n",
        "# score = model.score(X_test, Y_test)\n",
        "y_pred = lasso_pipe.predict(X)\n",
        "\n",
        "y_pred[y_pred<0.5]=0\n",
        "y_pred[y_pred>=0.5]=1\n",
        "\n",
        "score = accuracy_score(Y, y_pred)\n",
        "print(\"train accuracy lasso:\", score)"
      ]
    },
    {
      "cell_type": "markdown",
      "metadata": {
        "id": "0CEORh82VNGF"
      },
      "source": [
        "## Out-Sample Data"
      ]
    },
    {
      "cell_type": "code",
      "execution_count": null,
      "metadata": {
        "id": "FIYPjWczVNGF"
      },
      "outputs": [],
      "source": [
        "path = \"02_bankNoteTest.csv\"\n",
        "df = pd.read_csv(path)\n",
        "X_OS= df.iloc[:, :-1]\n",
        "Y_OS= df.iloc[:,4]"
      ]
    },
    {
      "cell_type": "code",
      "execution_count": null,
      "metadata": {
        "id": "rO3I7oMNVNGF"
      },
      "outputs": [],
      "source": [
        "X_OS = scaler.fit_transform(X_OS)"
      ]
    },
    {
      "cell_type": "markdown",
      "metadata": {
        "id": "MH34rnDPVNGF"
      },
      "source": [
        "## Testing Logistic Regression Model L1"
      ]
    },
    {
      "cell_type": "code",
      "execution_count": null,
      "metadata": {
        "id": "03W3qEOGVNGF",
        "outputId": "fd047655-80fe-42e8-8e11-ba02e70e9e87"
      },
      "outputs": [
        {
          "data": {
            "text/plain": [
              "0.5454545454545454"
            ]
          },
          "execution_count": 250,
          "metadata": {},
          "output_type": "execute_result"
        }
      ],
      "source": [
        "model_l1.score(X_OS,Y_OS)"
      ]
    },
    {
      "cell_type": "markdown",
      "metadata": {
        "id": "kfEuJIszVNGG"
      },
      "source": [
        "## Testing Logistic Regression Model L2"
      ]
    },
    {
      "cell_type": "code",
      "execution_count": null,
      "metadata": {
        "id": "u-c6QESzVNGG",
        "outputId": "0df9600d-51fc-4765-e959-6f1cd0345399"
      },
      "outputs": [
        {
          "data": {
            "text/plain": [
              "0.6363636363636364"
            ]
          },
          "execution_count": 251,
          "metadata": {},
          "output_type": "execute_result"
        }
      ],
      "source": [
        "model_l2.score(X_OS, Y_OS)"
      ]
    },
    {
      "cell_type": "markdown",
      "metadata": {
        "id": "M99H7Ge7VNGG"
      },
      "source": [
        "## Testing Rigde"
      ]
    },
    {
      "cell_type": "code",
      "execution_count": null,
      "metadata": {
        "id": "MizgVOUWVNGG",
        "outputId": "d20cbeb0-3cbc-4457-95b9-4d7e9f959daa"
      },
      "outputs": [
        {
          "name": "stdout",
          "output_type": "stream",
          "text": [
            "test accuracy ridge: 0.6363636363636364\n"
          ]
        }
      ],
      "source": [
        "y_pred = ridge_pipe.predict(X_OS)\n",
        "\n",
        "y_pred[y_pred<0.5]=0\n",
        "y_pred[y_pred>=0.5]=1\n",
        "\n",
        "score = accuracy_score(Y_OS, y_pred)\n",
        "print(\"test accuracy ridge:\", score)"
      ]
    },
    {
      "cell_type": "markdown",
      "metadata": {
        "id": "65uUGrrsVNGG"
      },
      "source": [
        "## Testing Lasso"
      ]
    },
    {
      "cell_type": "code",
      "execution_count": null,
      "metadata": {
        "id": "E-O7x8HKVNGG",
        "outputId": "1f38f3b0-4c9d-404d-ef58-e381d5143c21"
      },
      "outputs": [
        {
          "name": "stdout",
          "output_type": "stream",
          "text": [
            "test accuracy lasso: 0.6363636363636364\n"
          ]
        }
      ],
      "source": [
        "y_pred = lasso_pipe.predict(X_OS)\n",
        "\n",
        "y_pred[y_pred<0.5]=0\n",
        "y_pred[y_pred>=0.5]=1\n",
        "\n",
        "score = accuracy_score(Y_OS, y_pred)\n",
        "print(\"test accuracy lasso:\", score)"
      ]
    },
    {
      "cell_type": "markdown",
      "metadata": {
        "id": "V0y4gmfjVNGH"
      },
      "source": [
        "## Elsatinet Both  L1 and L2 regularized (train and test)\n",
        "\n",
        "- Linear regression with combined L1 and L2 priors as regularizer\n",
        "- **Formula**\n",
        "    - $1 / (2 * m) * \\sum\\limits‎_‎{n=0}^{‎\\‎‎infty‎} (y - X \\theta)^2_2 + alpha * l1_ratio * (\\theta)_1 + 0.5 * alpha * (1 - l1_ratio) * ||\\theta||^2_2$\n",
        "\n",
        "- If you are interested in controlling the L1 and L2 penalty separately, keep in mind that this is equivalent to:\n",
        "- $a * L1 + b * L2$\n",
        "\n",
        "- $alpha = a + b$ and \n",
        "- $l1_ratio = a / (a + b)$\n",
        "    "
      ]
    },
    {
      "cell_type": "code",
      "execution_count": null,
      "metadata": {
        "id": "eLrtL62TVNGH",
        "outputId": "2101e5cd-a767-48f3-d528-08182cd7fdbb"
      },
      "outputs": [
        {
          "name": "stdout",
          "output_type": "stream",
          "text": [
            "test accuracy ElasticNet: 0.6363636363636364\n"
          ]
        }
      ],
      "source": [
        "from sklearn.linear_model import ElasticNetCV\n",
        "regr = ElasticNetCV(cv=5, random_state=0) # ElecticNet model with iterative fitting along a regularization path\n",
        "regr.fit(X, Y)\n",
        "y_pred = regr.predict(X_OS)\n",
        "\n",
        "# for Classification\n",
        "y_pred[y_pred<0.5]=0 \n",
        "y_pred[y_pred>=0.5]=1\n",
        "\n",
        "score = accuracy_score(Y_OS, y_pred)\n",
        "print(\"test accuracy ElasticNet:\", score)"
      ]
    },
    {
      "cell_type": "markdown",
      "metadata": {
        "id": "szT2iQwTVNGH"
      },
      "source": [
        "## Confusion Matrix"
      ]
    },
    {
      "cell_type": "code",
      "execution_count": null,
      "metadata": {
        "id": "FvXk0cZHVNGH"
      },
      "outputs": [],
      "source": [
        "labels = [0, 1]\n",
        "\n",
        "width = 5\n",
        "height = 5\n",
        "\n",
        "title = \"Confusion Matrix\""
      ]
    },
    {
      "cell_type": "code",
      "execution_count": null,
      "metadata": {
        "id": "CUvVem2XVNGH",
        "outputId": "6190f41a-0da8-49c0-cf24-78649bdf7f63"
      },
      "outputs": [
        {
          "data": {
            "image/png": "[encoded data removed]",
            "text/plain": [
              "<Figure size 360x360 with 2 Axes>"
            ]
          },
          "metadata": {
            "needs_background": "light"
          },
          "output_type": "display_data"
        }
      ],
      "source": [
        "cm = confusion_matrix(Y_OS, y_pred, labels=labels)\n",
        "fig = plt.figure(figsize=(width, height))\n",
        "ax = plt.subplot()\n",
        "ax = sns.heatmap(cm, annot=True, ax=ax, fmt='d');  # annot=True to annotate cells\n",
        "# labels, title and ticks\n",
        "ax.set_xlabel('Predicted labels')\n",
        "ax.set_ylabel('True labels')\n",
        "ax.set_title(title)\n",
        "ax.xaxis.set_ticklabels(labels, rotation=90)\n",
        "ax.yaxis.set_ticklabels(labels, rotation=0)\n",
        "bottom, top = ax.get_ylim()\n",
        "left, right = ax.get_xlim()\n",
        "delta = 0.0325\n",
        "ax.set_ylim(bottom + delta, top - delta)\n",
        "ax.set_xlim(left - delta, right + delta)\n",
        "# plt.savefig(name + \".pdf\", bbox_inches='tight')\n",
        "plt.show()\n",
        "# return ax"
      ]
    },
    {
      "cell_type": "code",
      "execution_count": null,
      "metadata": {
        "id": "EjRonrbrVNGI",
        "outputId": "1df8a0c3-2320-4d89-ba24-6c11222e4a4f"
      },
      "outputs": [
        {
          "data": {
            "text/plain": [
              "array([[4, 2],\n",
              "       [2, 3]], dtype=int64)"
            ]
          },
          "execution_count": 228,
          "metadata": {},
          "output_type": "execute_result"
        }
      ],
      "source": [
        "cm"
      ]
    },
    {
      "cell_type": "markdown",
      "metadata": {
        "id": "VPSJJyomVNGI"
      },
      "source": [
        "## Accuracy Through Confusion Matrix"
      ]
    },
    {
      "cell_type": "code",
      "execution_count": null,
      "metadata": {
        "id": "d5_jGVAYVNGI"
      },
      "outputs": [],
      "source": [
        "TN=cm[0][0]\n",
        "TP=cm[1][1]\n",
        "FN= cm[0][1]\n",
        "FP=cm[1][0]"
      ]
    },
    {
      "cell_type": "code",
      "execution_count": null,
      "metadata": {
        "id": "GkaVywYrVNGI"
      },
      "outputs": [],
      "source": [
        "accuracyy = (TP+TN)/(TP+TN+FP+FN)"
      ]
    },
    {
      "cell_type": "code",
      "execution_count": null,
      "metadata": {
        "id": "PVD4Pp-XVNGI",
        "outputId": "4345a63d-e854-4b25-94de-ee35087b14fb"
      },
      "outputs": [
        {
          "data": {
            "text/plain": [
              "0.6363636363636364"
            ]
          },
          "execution_count": 130,
          "metadata": {},
          "output_type": "execute_result"
        }
      ],
      "source": [
        "accuracyy"
      ]
    },
    {
      "cell_type": "code",
      "execution_count": null,
      "metadata": {
        "id": "GcBpacpeVNGI"
      },
      "outputs": [],
      "source": [
        "Precision=TP/(TP+FP)"
      ]
    },
    {
      "cell_type": "code",
      "execution_count": null,
      "metadata": {
        "id": "IIbGyMW5VNGI",
        "outputId": "ec778952-41c5-40de-a165-6632307b4bfd"
      },
      "outputs": [
        {
          "data": {
            "text/plain": [
              "0.6"
            ]
          },
          "execution_count": 132,
          "metadata": {},
          "output_type": "execute_result"
        }
      ],
      "source": [
        "Precision"
      ]
    },
    {
      "cell_type": "markdown",
      "metadata": {
        "id": "WMqiDpEhVNGJ"
      },
      "source": [
        "- **I think we can not improve the accuracy on this specific set of test data, the reason might be, the test data have different distribution from the train data**"
      ]
    },
    {
      "cell_type": "code",
      "execution_count": null,
      "metadata": {
        "id": "DgrYApmlVNGJ"
      },
      "outputs": [],
      "source": [
        "from sklearn.model_selection import KFold"
      ]
    },
    {
      "cell_type": "code",
      "execution_count": null,
      "metadata": {
        "id": "nRXU5UvGVNGJ"
      },
      "outputs": [],
      "source": [
        "kfold = KFold(5, True, 1)"
      ]
    },
    {
      "cell_type": "code",
      "execution_count": null,
      "metadata": {
        "id": "UTSv1dFqVNGJ"
      },
      "outputs": [],
      "source": [
        "k = kflod.split()"
      ]
    }
  ],
  "metadata": {
    "kernelspec": {
      "display_name": "Python 3",
      "language": "python",
      "name": "python3"
    },
    "language_info": {
      "codemirror_mode": {
        "name": "ipython",
        "version": 3
      },
      "file_extension": ".py",
      "mimetype": "text/x-python",
      "name": "python",
      "nbconvert_exporter": "python",
      "pygments_lexer": "ipython3",
      "version": "3.7.3"
    },
    "colab": {
      "provenance": []
    }
  },
  "nbformat": 4,
  "nbformat_minor": 0
}