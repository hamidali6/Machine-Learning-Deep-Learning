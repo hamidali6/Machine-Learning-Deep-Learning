{
  "nbformat": 4,
  "nbformat_minor": 0,
  "metadata": {
    "colab": {
      "provenance": []
    },
    "kernelspec": {
      "name": "python3",
      "display_name": "Python 3"
    },
    "language_info": {
      "name": "python"
    }
  },
  "cells": [
    {
      "cell_type": "code",
      "execution_count": null,
      "metadata": {
        "id": "mFdj7_K9dD5F"
      },
      "outputs": [],
      "source": [
        "import pandas as pd"
      ]
    },
    {
      "cell_type": "code",
      "source": [
        "from google.colab import files\n",
        "uploaded = files.upload()"
      ],
      "metadata": {
        "colab": {
          "resources": {
            "http://localhost:8080/nbextensions/google.colab/files.js": {
              "data": "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",
              "ok": true,
              "headers": [
                [
                  "content-type",
                  "application/javascript"
                ]
              ],
              "status": 200,
              "status_text": ""
            }
          },
          "base_uri": "https://localhost:8080/",
          "height": 73
        },
        "id": "Lol0dkxMdEe_",
        "outputId": "408e2e69-117b-4e12-fd5b-f922eefd863b"
      },
      "execution_count": null,
      "outputs": [
        {
          "output_type": "display_data",
          "data": {
            "text/plain": [
              "<IPython.core.display.HTML object>"
            ],
            "text/html": [
              "\n",
              "     <input type=\"file\" id=\"files-8747f1d3-f635-43dd-bfc1-078d9ee54a5e\" name=\"files[]\" multiple disabled\n",
              "        style=\"border:none\" />\n",
              "     <output id=\"result-8747f1d3-f635-43dd-bfc1-078d9ee54a5e\">\n",
              "      Upload widget is only available when the cell has been executed in the\n",
              "      current browser session. Please rerun this cell to enable.\n",
              "      </output>\n",
              "      <script src=\"/nbextensions/google.colab/files.js\"></script> "
            ]
          },
          "metadata": {}
        },
        {
          "output_type": "stream",
          "name": "stdout",
          "text": [
            "Saving Book_9train_data_sample1_reduced_9.csv to Book_9train_data_sample1_reduced_9.csv\n"
          ]
        }
      ]
    },
    {
      "cell_type": "markdown",
      "source": [],
      "metadata": {
        "id": "wyd_5_RUoCZu"
      }
    },
    {
      "cell_type": "markdown",
      "source": [
        "# Installation of Pyspark through pip"
      ],
      "metadata": {
        "id": "1gZ3jWpUoCbO"
      }
    },
    {
      "cell_type": "code",
      "source": [
        "!pip install pyspark"
      ],
      "metadata": {
        "colab": {
          "base_uri": "https://localhost:8080/"
        },
        "id": "iO2lhbhkdHQM",
        "outputId": "1ddb0532-84d5-4edd-92bb-fb62508d3570"
      },
      "execution_count": null,
      "outputs": [
        {
          "output_type": "stream",
          "name": "stdout",
          "text": [
            "Requirement already satisfied: pyspark in /usr/local/lib/python3.7/dist-packages (3.2.1)\n",
            "Requirement already satisfied: py4j==0.10.9.3 in /usr/local/lib/python3.7/dist-packages (from pyspark) (0.10.9.3)\n"
          ]
        }
      ]
    },
    {
      "cell_type": "code",
      "source": [
        "!pip install findspark"
      ],
      "metadata": {
        "colab": {
          "base_uri": "https://localhost:8080/"
        },
        "id": "vUQfjobydU1z",
        "outputId": "464bbabf-8598-44ad-a8e2-2dcf5f15a101"
      },
      "execution_count": null,
      "outputs": [
        {
          "output_type": "stream",
          "name": "stdout",
          "text": [
            "Requirement already satisfied: findspark in /usr/local/lib/python3.7/dist-packages (2.0.1)\n"
          ]
        }
      ]
    },
    {
      "cell_type": "code",
      "source": [
        "import findspark\n",
        "findspark.init()"
      ],
      "metadata": {
        "id": "sp2e27Zddl1b"
      },
      "execution_count": null,
      "outputs": []
    },
    {
      "cell_type": "markdown",
      "source": [
        "# Creating a Spark Session"
      ],
      "metadata": {
        "id": "SbP-RI5eoIyh"
      }
    },
    {
      "cell_type": "code",
      "source": [
        "from pyspark.sql import SparkSession\n",
        "spark = SparkSession.builder.getOrCreate()"
      ],
      "metadata": {
        "id": "X-dt3NyDdoXz"
      },
      "execution_count": null,
      "outputs": []
    },
    {
      "cell_type": "markdown",
      "source": [
        "# Loading Dataset Through Spark"
      ],
      "metadata": {
        "id": "e1AymgG2oM0i"
      }
    },
    {
      "cell_type": "code",
      "source": [
        "data = spark.read.csv('./Book_9train_data_sample1_reduced_9.csv', header=True, inferSchema=True)"
      ],
      "metadata": {
        "id": "APQKb-HJdqZ6"
      },
      "execution_count": null,
      "outputs": []
    },
    {
      "cell_type": "code",
      "source": [
        "data.show()"
      ],
      "metadata": {
        "colab": {
          "base_uri": "https://localhost:8080/"
        },
        "id": "wFNNvT_Wdy1q",
        "outputId": "17b33a1c-8297-43f2-b393-b1780d21596d"
      },
      "execution_count": null,
      "outputs": [
        {
          "output_type": "stream",
          "name": "stdout",
          "text": [
            "+---+-------+-----------------+----------+----------+----------+----------+---------+---------+---------+---------+--------+-----------+---------+---------+------------+------------+--------------------+-------------+\n",
            "|_c0|time_id|seconds_in_bucket|bid_price1|ask_price1|bid_price2|ask_price2|bid_size1|ask_size1|bid_size2|ask_size2|stock_id|     target|     wap1|     wap2| wap_balance|total_volume|        volitality_1| volitality_2|\n",
            "+---+-------+-----------------+----------+----------+----------+----------+---------+---------+---------+---------+--------+-----------+---------+---------+------------+------------+--------------------+-------------+\n",
            "|  1|      5|                1| 1.0014222| 1.0023013| 1.0013704| 1.0023531|        3|      100|        2|      100|       0|0.004135767|1.0014478|1.0013896|5.8174133E-5|         205|2.924799984245053...|          0.0|\n",
            "|  2|      5|                5| 1.0014222| 1.0023013| 1.0013704| 1.0024048|        3|      100|        2|      100|       0|0.004135767|1.0014478|1.0013907| 5.710125E-5|         205|2.924799984245053...|  1.072883E-6|\n",
            "|  3|      5|                6| 1.0014222| 1.0023013| 1.0013704| 1.0024048|        3|      126|        2|      100|       0|0.004135767|1.0014426|1.0013907| 5.185604E-5|         231|2.924799984245053...|          0.0|\n",
            "|  4|      5|                7| 1.0014222| 1.0023013| 1.0013704| 1.0024048|        3|      126|        2|      100|       0|0.004135767|1.0014426|1.0013907| 5.185604E-5|         231|2.924799984245053...|          0.0|\n",
            "|  5|      5|               11| 1.0014222| 1.0023013| 1.0013704| 1.0024048|        3|      100|        2|      100|       0|0.004135767|1.0014478|1.0013907| 5.710125E-5|         205|2.924799984245053...|          0.0|\n",
            "|  6|      5|               12| 1.0014222| 1.0023013| 1.0013704| 1.0024048|        3|      126|        2|      100|       0|0.004135767|1.0014426|1.0013907| 5.185604E-5|         231|2.924799984245053...|          0.0|\n",
            "|  7|      5|               14| 1.0014222| 1.0023013| 1.0013704| 1.0024048|        3|      126|        2|      100|       0|0.004135767|1.0014426|1.0013907| 5.185604E-5|         231|2.924799984245053...|          0.0|\n",
            "|  8|      5|               15| 1.0014222| 1.0023013| 1.0013704| 1.0024048|        3|      126|        2|      100|       0|0.004135767|1.0014426|1.0013907| 5.185604E-5|         231|2.924799984245053...|          0.0|\n",
            "|  9|      5|               16| 1.0014222| 1.0023013| 1.0013704| 1.0024048|        3|      126|        2|      100|       0|0.004135767|1.0014426|1.0013907| 5.185604E-5|         231|2.924799984245053...|          0.0|\n",
            "| 10|      5|               17| 1.0014222| 1.0023013| 1.0013704| 1.0024048|        3|      100|        2|      100|       0|0.004135767|1.0014478|1.0013907| 5.710125E-5|         205|2.924799984245053...|          0.0|\n",
            "| 11|      5|               18| 1.0014222| 1.0023013| 1.0013704| 1.0024048|        3|      126|        2|      100|       0|0.004135767|1.0014426|1.0013907| 5.185604E-5|         231|2.924799984245053...|          0.0|\n",
            "| 12|      5|               19| 1.0014222| 1.0023013| 1.0013704| 1.0024048|        3|      126|        2|      100|       0|0.004135767|1.0014426|1.0013907| 5.185604E-5|         231|2.924799984245053...|          0.0|\n",
            "| 13|      5|               21| 1.0014222| 1.0028185| 1.0013704| 1.0029219|        3|       30|        2|      100|       0|0.004135767|1.0015491|1.0014008|1.4829636E-4|         135|2.924799984245053...| 1.0132739E-5|\n",
            "| 14|      5|               24| 1.0014739| 1.0028185| 1.0014222| 1.0029219|      155|       30|        3|      100|       0|0.004135767|1.0026004|1.0014659|0.0011345148|         288|2.924799984245053...|  6.496695E-5|\n",
            "| 15|      5|               25| 1.0017325| 1.0028185| 1.0014222| 1.0029219|       83|       30|        3|      100|       0|0.004135767|1.0025301|1.0014659|0.0010641813|         216|2.924799984245053...|          0.0|\n",
            "| 16|      5|               44| 1.0017325| 1.0028185| 1.0014222| 1.0029219|       83|       28|        3|      100|       0|0.004135767|1.0025445|1.0014659|0.0010786057|         214|2.924799984245053...|          0.0|\n",
            "| 17|      5|               46| 1.0028185| 1.0032322| 1.0023013| 1.0038011|      155|        1|      200|       34|       0|0.004135767|1.0032296|1.0035832|3.5357475E-4|         390|2.924799984245053...|  0.002111945|\n",
            "| 18|      5|               47| 1.0028185| 1.0032322| 1.0023013| 1.0038011|       55|        1|      100|       34|       0|0.004135767|1.0032248|1.0034206|1.9574165E-4|         190|2.924799984245053...|-1.6201855E-4|\n",
            "| 19|      5|               48| 1.0028185| 1.0032322| 1.0023531| 1.0037494|       55|      101|      103|      100|       0|0.004135767|1.0029643|1.0030615| 9.727478E-5|         359|2.924799984245053...| -3.578707E-4|\n",
            "| 20|      5|               50| 1.0023531| 1.0030254| 1.0023013| 1.0032322|        3|       20|      100|      301|       0|0.004135767|1.0024407|1.0025334| 9.274483E-5|         424|2.924799984245053...| -5.266265E-4|\n",
            "+---+-------+-----------------+----------+----------+----------+----------+---------+---------+---------+---------+--------+-----------+---------+---------+------------+------------+--------------------+-------------+\n",
            "only showing top 20 rows\n",
            "\n"
          ]
        }
      ]
    },
    {
      "cell_type": "code",
      "source": [
        "#data.na.drop(subset=[\"volitality_2\"]).show(truncate=False)"
      ],
      "metadata": {
        "id": "ETFmyp_9jlax"
      },
      "execution_count": null,
      "outputs": []
    },
    {
      "cell_type": "code",
      "source": [],
      "metadata": {
        "id": "ZSdasLY7joR6"
      },
      "execution_count": null,
      "outputs": []
    },
    {
      "cell_type": "markdown",
      "source": [
        "# Generating Features"
      ],
      "metadata": {
        "id": "1Yy0PuQFoUZq"
      }
    },
    {
      "cell_type": "code",
      "source": [
        "feature_colums = data.columns[:-2]\n",
        "feature_colums"
      ],
      "metadata": {
        "colab": {
          "base_uri": "https://localhost:8080/"
        },
        "id": "Nxy3wHyfd3KT",
        "outputId": "9ac337e0-7b8a-4258-a57a-94ae88131945"
      },
      "execution_count": null,
      "outputs": [
        {
          "output_type": "execute_result",
          "data": {
            "text/plain": [
              "['_c0',\n",
              " 'time_id',\n",
              " 'seconds_in_bucket',\n",
              " 'bid_price1',\n",
              " 'ask_price1',\n",
              " 'bid_price2',\n",
              " 'ask_price2',\n",
              " 'bid_size1',\n",
              " 'ask_size1',\n",
              " 'bid_size2',\n",
              " 'ask_size2',\n",
              " 'stock_id',\n",
              " 'target',\n",
              " 'wap1',\n",
              " 'wap2',\n",
              " 'wap_balance',\n",
              " 'total_volume']"
            ]
          },
          "metadata": {},
          "execution_count": 123
        }
      ]
    },
    {
      "cell_type": "code",
      "source": [
        "from pyspark.ml.feature import VectorAssembler"
      ],
      "metadata": {
        "id": "mMDX-NpJd7oD"
      },
      "execution_count": null,
      "outputs": []
    },
    {
      "cell_type": "code",
      "source": [
        "assembler = VectorAssembler(inputCols=feature_colums, outputCol=\"features\")"
      ],
      "metadata": {
        "id": "usqQooGgd-AD"
      },
      "execution_count": null,
      "outputs": []
    },
    {
      "cell_type": "code",
      "source": [
        "data2 =  assembler.transform(data)"
      ],
      "metadata": {
        "id": "if0ZYQneeASz"
      },
      "execution_count": null,
      "outputs": []
    },
    {
      "cell_type": "code",
      "source": [
        "data2.count()"
      ],
      "metadata": {
        "colab": {
          "base_uri": "https://localhost:8080/"
        },
        "id": "6PRNPXE5eCNT",
        "outputId": "f433105d-f58e-4338-9f3a-9992d1fdfd90"
      },
      "execution_count": null,
      "outputs": [
        {
          "output_type": "execute_result",
          "data": {
            "text/plain": [
              "10000"
            ]
          },
          "metadata": {},
          "execution_count": 127
        }
      ]
    },
    {
      "cell_type": "code",
      "source": [
        "data2.show()"
      ],
      "metadata": {
        "colab": {
          "base_uri": "https://localhost:8080/"
        },
        "id": "TJLtL0rSeEDb",
        "outputId": "d6aa68af-1771-4103-f009-601f807277a3"
      },
      "execution_count": null,
      "outputs": [
        {
          "output_type": "stream",
          "name": "stdout",
          "text": [
            "+---+-------+-----------------+----------+----------+----------+----------+---------+---------+---------+---------+--------+-----------+---------+---------+------------+------------+--------------------+-------------+--------------------+\n",
            "|_c0|time_id|seconds_in_bucket|bid_price1|ask_price1|bid_price2|ask_price2|bid_size1|ask_size1|bid_size2|ask_size2|stock_id|     target|     wap1|     wap2| wap_balance|total_volume|        volitality_1| volitality_2|            features|\n",
            "+---+-------+-----------------+----------+----------+----------+----------+---------+---------+---------+---------+--------+-----------+---------+---------+------------+------------+--------------------+-------------+--------------------+\n",
            "|  1|      5|                1| 1.0014222| 1.0023013| 1.0013704| 1.0023531|        3|      100|        2|      100|       0|0.004135767|1.0014478|1.0013896|5.8174133E-5|         205|2.924799984245053...|          0.0|[1.0,5.0,1.0,1.00...|\n",
            "|  2|      5|                5| 1.0014222| 1.0023013| 1.0013704| 1.0024048|        3|      100|        2|      100|       0|0.004135767|1.0014478|1.0013907| 5.710125E-5|         205|2.924799984245053...|  1.072883E-6|[2.0,5.0,5.0,1.00...|\n",
            "|  3|      5|                6| 1.0014222| 1.0023013| 1.0013704| 1.0024048|        3|      126|        2|      100|       0|0.004135767|1.0014426|1.0013907| 5.185604E-5|         231|2.924799984245053...|          0.0|[3.0,5.0,6.0,1.00...|\n",
            "|  4|      5|                7| 1.0014222| 1.0023013| 1.0013704| 1.0024048|        3|      126|        2|      100|       0|0.004135767|1.0014426|1.0013907| 5.185604E-5|         231|2.924799984245053...|          0.0|[4.0,5.0,7.0,1.00...|\n",
            "|  5|      5|               11| 1.0014222| 1.0023013| 1.0013704| 1.0024048|        3|      100|        2|      100|       0|0.004135767|1.0014478|1.0013907| 5.710125E-5|         205|2.924799984245053...|          0.0|[5.0,5.0,11.0,1.0...|\n",
            "|  6|      5|               12| 1.0014222| 1.0023013| 1.0013704| 1.0024048|        3|      126|        2|      100|       0|0.004135767|1.0014426|1.0013907| 5.185604E-5|         231|2.924799984245053...|          0.0|[6.0,5.0,12.0,1.0...|\n",
            "|  7|      5|               14| 1.0014222| 1.0023013| 1.0013704| 1.0024048|        3|      126|        2|      100|       0|0.004135767|1.0014426|1.0013907| 5.185604E-5|         231|2.924799984245053...|          0.0|[7.0,5.0,14.0,1.0...|\n",
            "|  8|      5|               15| 1.0014222| 1.0023013| 1.0013704| 1.0024048|        3|      126|        2|      100|       0|0.004135767|1.0014426|1.0013907| 5.185604E-5|         231|2.924799984245053...|          0.0|[8.0,5.0,15.0,1.0...|\n",
            "|  9|      5|               16| 1.0014222| 1.0023013| 1.0013704| 1.0024048|        3|      126|        2|      100|       0|0.004135767|1.0014426|1.0013907| 5.185604E-5|         231|2.924799984245053...|          0.0|[9.0,5.0,16.0,1.0...|\n",
            "| 10|      5|               17| 1.0014222| 1.0023013| 1.0013704| 1.0024048|        3|      100|        2|      100|       0|0.004135767|1.0014478|1.0013907| 5.710125E-5|         205|2.924799984245053...|          0.0|[10.0,5.0,17.0,1....|\n",
            "| 11|      5|               18| 1.0014222| 1.0023013| 1.0013704| 1.0024048|        3|      126|        2|      100|       0|0.004135767|1.0014426|1.0013907| 5.185604E-5|         231|2.924799984245053...|          0.0|[11.0,5.0,18.0,1....|\n",
            "| 12|      5|               19| 1.0014222| 1.0023013| 1.0013704| 1.0024048|        3|      126|        2|      100|       0|0.004135767|1.0014426|1.0013907| 5.185604E-5|         231|2.924799984245053...|          0.0|[12.0,5.0,19.0,1....|\n",
            "| 13|      5|               21| 1.0014222| 1.0028185| 1.0013704| 1.0029219|        3|       30|        2|      100|       0|0.004135767|1.0015491|1.0014008|1.4829636E-4|         135|2.924799984245053...| 1.0132739E-5|[13.0,5.0,21.0,1....|\n",
            "| 14|      5|               24| 1.0014739| 1.0028185| 1.0014222| 1.0029219|      155|       30|        3|      100|       0|0.004135767|1.0026004|1.0014659|0.0011345148|         288|2.924799984245053...|  6.496695E-5|[14.0,5.0,24.0,1....|\n",
            "| 15|      5|               25| 1.0017325| 1.0028185| 1.0014222| 1.0029219|       83|       30|        3|      100|       0|0.004135767|1.0025301|1.0014659|0.0010641813|         216|2.924799984245053...|          0.0|[15.0,5.0,25.0,1....|\n",
            "| 16|      5|               44| 1.0017325| 1.0028185| 1.0014222| 1.0029219|       83|       28|        3|      100|       0|0.004135767|1.0025445|1.0014659|0.0010786057|         214|2.924799984245053...|          0.0|[16.0,5.0,44.0,1....|\n",
            "| 17|      5|               46| 1.0028185| 1.0032322| 1.0023013| 1.0038011|      155|        1|      200|       34|       0|0.004135767|1.0032296|1.0035832|3.5357475E-4|         390|2.924799984245053...|  0.002111945|[17.0,5.0,46.0,1....|\n",
            "| 18|      5|               47| 1.0028185| 1.0032322| 1.0023013| 1.0038011|       55|        1|      100|       34|       0|0.004135767|1.0032248|1.0034206|1.9574165E-4|         190|2.924799984245053...|-1.6201855E-4|[18.0,5.0,47.0,1....|\n",
            "| 19|      5|               48| 1.0028185| 1.0032322| 1.0023531| 1.0037494|       55|      101|      103|      100|       0|0.004135767|1.0029643|1.0030615| 9.727478E-5|         359|2.924799984245053...| -3.578707E-4|[19.0,5.0,48.0,1....|\n",
            "| 20|      5|               50| 1.0023531| 1.0030254| 1.0023013| 1.0032322|        3|       20|      100|      301|       0|0.004135767|1.0024407|1.0025334| 9.274483E-5|         424|2.924799984245053...| -5.266265E-4|[20.0,5.0,50.0,1....|\n",
            "+---+-------+-----------------+----------+----------+----------+----------+---------+---------+---------+---------+--------+-----------+---------+---------+------------+------------+--------------------+-------------+--------------------+\n",
            "only showing top 20 rows\n",
            "\n"
          ]
        }
      ]
    },
    {
      "cell_type": "code",
      "source": [],
      "metadata": {
        "id": "RYSNIK6k2OM6"
      },
      "execution_count": null,
      "outputs": []
    },
    {
      "cell_type": "code",
      "source": [
        "#import spark.ml.feature.StandardScaler"
      ],
      "metadata": {
        "id": "7M9NlNl_2OL0"
      },
      "execution_count": null,
      "outputs": []
    },
    {
      "cell_type": "code",
      "source": [],
      "metadata": {
        "id": "V6tN086q2Xze"
      },
      "execution_count": null,
      "outputs": []
    },
    {
      "cell_type": "markdown",
      "source": [
        "# Train Test Split \n",
        "\n",
        "- **70% train**\n",
        "- **30% Test**"
      ],
      "metadata": {
        "id": "Tlu_hi-HoZ-1"
      }
    },
    {
      "cell_type": "code",
      "source": [
        "train, test = data2.randomSplit([0.7, 0.3])"
      ],
      "metadata": {
        "id": "R7ybjoV9eGEL"
      },
      "execution_count": null,
      "outputs": []
    },
    {
      "cell_type": "code",
      "source": [
        "train.show()"
      ],
      "metadata": {
        "colab": {
          "base_uri": "https://localhost:8080/"
        },
        "id": "0Cm3V7BbeIuj",
        "outputId": "166bbccb-0884-4f81-9bed-a396cfc297ad"
      },
      "execution_count": null,
      "outputs": [
        {
          "output_type": "stream",
          "name": "stdout",
          "text": [
            "+---+-------+-----------------+----------+----------+----------+----------+---------+---------+---------+---------+--------+-----------+---------+---------+------------+------------+--------------------+-------------+--------------------+\n",
            "|_c0|time_id|seconds_in_bucket|bid_price1|ask_price1|bid_price2|ask_price2|bid_size1|ask_size1|bid_size2|ask_size2|stock_id|     target|     wap1|     wap2| wap_balance|total_volume|        volitality_1| volitality_2|            features|\n",
            "+---+-------+-----------------+----------+----------+----------+----------+---------+---------+---------+---------+--------+-----------+---------+---------+------------+------------+--------------------+-------------+--------------------+\n",
            "|  1|      5|                1| 1.0014222| 1.0023013| 1.0013704| 1.0023531|        3|      100|        2|      100|       0|0.004135767|1.0014478|1.0013896|5.8174133E-5|         205|2.924799984245053...|          0.0|[1.0,5.0,1.0,1.00...|\n",
            "|  2|      5|                5| 1.0014222| 1.0023013| 1.0013704| 1.0024048|        3|      100|        2|      100|       0|0.004135767|1.0014478|1.0013907| 5.710125E-5|         205|2.924799984245053...|  1.072883E-6|[2.0,5.0,5.0,1.00...|\n",
            "|  4|      5|                7| 1.0014222| 1.0023013| 1.0013704| 1.0024048|        3|      126|        2|      100|       0|0.004135767|1.0014426|1.0013907| 5.185604E-5|         231|2.924799984245053...|          0.0|[4.0,5.0,7.0,1.00...|\n",
            "|  5|      5|               11| 1.0014222| 1.0023013| 1.0013704| 1.0024048|        3|      100|        2|      100|       0|0.004135767|1.0014478|1.0013907| 5.710125E-5|         205|2.924799984245053...|          0.0|[5.0,5.0,11.0,1.0...|\n",
            "|  6|      5|               12| 1.0014222| 1.0023013| 1.0013704| 1.0024048|        3|      126|        2|      100|       0|0.004135767|1.0014426|1.0013907| 5.185604E-5|         231|2.924799984245053...|          0.0|[6.0,5.0,12.0,1.0...|\n",
            "|  7|      5|               14| 1.0014222| 1.0023013| 1.0013704| 1.0024048|        3|      126|        2|      100|       0|0.004135767|1.0014426|1.0013907| 5.185604E-5|         231|2.924799984245053...|          0.0|[7.0,5.0,14.0,1.0...|\n",
            "|  8|      5|               15| 1.0014222| 1.0023013| 1.0013704| 1.0024048|        3|      126|        2|      100|       0|0.004135767|1.0014426|1.0013907| 5.185604E-5|         231|2.924799984245053...|          0.0|[8.0,5.0,15.0,1.0...|\n",
            "| 12|      5|               19| 1.0014222| 1.0023013| 1.0013704| 1.0024048|        3|      126|        2|      100|       0|0.004135767|1.0014426|1.0013907| 5.185604E-5|         231|2.924799984245053...|          0.0|[12.0,5.0,19.0,1....|\n",
            "| 13|      5|               21| 1.0014222| 1.0028185| 1.0013704| 1.0029219|        3|       30|        2|      100|       0|0.004135767|1.0015491|1.0014008|1.4829636E-4|         135|2.924799984245053...| 1.0132739E-5|[13.0,5.0,21.0,1....|\n",
            "| 15|      5|               25| 1.0017325| 1.0028185| 1.0014222| 1.0029219|       83|       30|        3|      100|       0|0.004135767|1.0025301|1.0014659|0.0010641813|         216|2.924799984245053...|          0.0|[15.0,5.0,25.0,1....|\n",
            "| 16|      5|               44| 1.0017325| 1.0028185| 1.0014222| 1.0029219|       83|       28|        3|      100|       0|0.004135767|1.0025445|1.0014659|0.0010786057|         214|2.924799984245053...|          0.0|[16.0,5.0,44.0,1....|\n",
            "| 20|      5|               50| 1.0023531| 1.0030254| 1.0023013| 1.0032322|        3|       20|      100|      301|       0|0.004135767|1.0024407|1.0025334| 9.274483E-5|         424|2.924799984245053...| -5.266265E-4|[20.0,5.0,50.0,1....|\n",
            "| 21|      5|               51| 1.0023531| 1.0030254| 1.0023013| 1.0032322|        3|       20|      100|      329|       0|0.004135767|1.0024407|1.0025184| 7.772446E-5|         452|2.924799984245053...|-1.4960878E-5|[21.0,5.0,51.0,1....|\n",
            "| 23|      5|               57| 1.0025082| 1.0036459| 1.0024565| 1.0037494|      200|      104|       28|      200|       0|0.004135767|1.0032568|1.0026153| 6.414652E-4|         532|2.924799984245053...| -1.252968E-4|[23.0,5.0,57.0,1....|\n",
            "| 24|      5|               59| 1.0025082| 1.0036459| 1.0024565| 1.0037494|      200|        4|       28|      200|       0|0.004135767|1.0036236|1.0026153|0.0010082722|         432|2.924799984245053...|          0.0|[24.0,5.0,59.0,1....|\n",
            "| 28|      5|               69| 1.0028185| 1.0037494| 1.0027668| 1.0038011|       11|      100|      114|       34|       0|0.004135767|1.0029107|1.0035635|6.5279007E-4|         259|2.924799984245053...|   5.03175E-4|[28.0,5.0,69.0,1....|\n",
            "| 29|      5|               78|  1.003284| 1.0041631| 1.0031805| 1.0043182|       19|        9|       28|       20|       0|0.004135767|1.0038806|1.0038441|3.6478043E-5|          76|2.924799984245053...|  2.796259E-4|[29.0,5.0,78.0,1....|\n",
            "| 30|      5|               79|  1.003284| 1.0041631| 1.0031805| 1.0043182|      119|        9|       28|       20|       0|0.004135767|1.0041013|1.0038441|2.5713444E-4|         176|2.924799984245053...|          0.0|[30.0,5.0,79.0,1....|\n",
            "| 34|      5|               90|  1.003284| 1.0041631| 1.0031805| 1.0043182|      322|        9|       28|       20|       0|0.004135767|1.0041393|1.0038441| 2.951622E-4|         379|2.924799984245053...|          0.0|[34.0,5.0,90.0,1....|\n",
            "| 36|      5|               93|  1.003284| 1.0041631| 1.0032322| 1.0043182|      124|        9|      100|       20|       0|0.004135767|1.0041035|1.0041373| 3.373623E-5|         253|2.924799984245053...|-4.8102105E-5|[36.0,5.0,93.0,1....|\n",
            "+---+-------+-----------------+----------+----------+----------+----------+---------+---------+---------+---------+--------+-----------+---------+---------+------------+------------+--------------------+-------------+--------------------+\n",
            "only showing top 20 rows\n",
            "\n"
          ]
        }
      ]
    },
    {
      "cell_type": "code",
      "source": [
        "train.count()"
      ],
      "metadata": {
        "colab": {
          "base_uri": "https://localhost:8080/"
        },
        "id": "rsMGIMgmeKz7",
        "outputId": "f08700b9-abc2-4070-f28e-0ab576779c8f"
      },
      "execution_count": null,
      "outputs": [
        {
          "output_type": "execute_result",
          "data": {
            "text/plain": [
              "7032"
            ]
          },
          "metadata": {},
          "execution_count": 134
        }
      ]
    },
    {
      "cell_type": "code",
      "source": [
        "test.count()"
      ],
      "metadata": {
        "colab": {
          "base_uri": "https://localhost:8080/"
        },
        "id": "_aoqqBSTeNej",
        "outputId": "ef0e8f76-bb25-4565-a9c7-c5fcfdd6354f"
      },
      "execution_count": null,
      "outputs": [
        {
          "output_type": "execute_result",
          "data": {
            "text/plain": [
              "2968"
            ]
          },
          "metadata": {},
          "execution_count": 135
        }
      ]
    },
    {
      "cell_type": "markdown",
      "source": [
        "# Linear Regression"
      ],
      "metadata": {
        "id": "Q1P5Lol5ovry"
      }
    },
    {
      "cell_type": "code",
      "source": [
        "from pyspark.ml.regression import LinearRegression"
      ],
      "metadata": {
        "id": "kD_kt2hReRCL"
      },
      "execution_count": null,
      "outputs": []
    },
    {
      "cell_type": "code",
      "source": [
        "algo = LinearRegression(featuresCol=\"features\", labelCol=\"volitality_2\")\n",
        "model = algo.fit(train)"
      ],
      "metadata": {
        "id": "4u0OB6O-eU8K"
      },
      "execution_count": null,
      "outputs": []
    },
    {
      "cell_type": "code",
      "source": [],
      "metadata": {
        "id": "E0hdCB_PQmdd"
      },
      "execution_count": null,
      "outputs": []
    },
    {
      "cell_type": "code",
      "source": [],
      "metadata": {
        "id": "DVh0JhcLQmYd"
      },
      "execution_count": null,
      "outputs": []
    },
    {
      "cell_type": "code",
      "source": [
        "print(\"Coefficients: \" + str(model.coefficients))\n",
        "print(\"\\nIntercept: \" + str(model.intercept))"
      ],
      "metadata": {
        "colab": {
          "base_uri": "https://localhost:8080/"
        },
        "id": "Vyi-Lb_AeXJi",
        "outputId": "e1d85721-6009-4985-80e8-d51c1a59e147"
      },
      "execution_count": null,
      "outputs": [
        {
          "output_type": "stream",
          "name": "stdout",
          "text": [
            "Coefficients: [5.399729752911043e-09,-1.9995780969869052e-07,-5.360411523120415e-10,-0.14240830891779688,-0.08570666359942523,-0.027084099717492024,-0.11309344348862865,-5.801700807772678e-08,5.403978929500292e-08,-8.584250344640826e-08,2.2801218099654076e-07,0.0,-0.0055761709070017585,-0.10609314469479357,0.47013975915584416,0.03984098027292203,3.202359167738917e-08]\n",
            "\n",
            "Intercept: 0.004254516827337661\n"
          ]
        }
      ]
    },
    {
      "cell_type": "markdown",
      "source": [
        "# Evaluation Criteria"
      ],
      "metadata": {
        "id": "Ls-6PG1Nozsp"
      }
    },
    {
      "cell_type": "code",
      "source": [
        "eva = model.evaluate(test)"
      ],
      "metadata": {
        "id": "4c0MUbSoecgS"
      },
      "execution_count": null,
      "outputs": []
    },
    {
      "cell_type": "code",
      "source": [
        "mae = eva.meanAbsoluteError\n",
        "mse = eva.meanSquaredError\n",
        "rmse = eva.rootMeanSquaredError\n",
        "r2 = eva.r2"
      ],
      "metadata": {
        "id": "M1HWQe1IefZa"
      },
      "execution_count": null,
      "outputs": []
    },
    {
      "cell_type": "code",
      "source": [
        "print(\"Mean Absolute Error:\", mae)\n",
        "print(\"Mean Squared Error:\", mse)\n",
        "print(\"Root Mean Squared Error:\", rmse)\n",
        "print(\"R2 Error:\", r2)\n",
        "\n"
      ],
      "metadata": {
        "colab": {
          "base_uri": "https://localhost:8080/"
        },
        "id": "YX4uoGdrfs_S",
        "outputId": "db95db46-46f4-4734-e7a2-9d66e8cb06ac"
      },
      "execution_count": null,
      "outputs": [
        {
          "output_type": "stream",
          "name": "stdout",
          "text": [
            "Mean Absolute Error: 0.00030306831357029764\n",
            "Mean Squared Error: 3.120144120185384e-07\n",
            "Root Mean Squared Error: 0.0005585825024278315\n",
            "R2 Error: 0.10162060661952621\n"
          ]
        }
      ]
    },
    {
      "cell_type": "code",
      "source": [],
      "metadata": {
        "id": "taajUvaL8wo4"
      },
      "execution_count": null,
      "outputs": []
    },
    {
      "cell_type": "code",
      "source": [
        "pred = model.transform(test)"
      ],
      "metadata": {
        "id": "pXPQUOFxf8kT"
      },
      "execution_count": null,
      "outputs": []
    },
    {
      "cell_type": "code",
      "source": [
        "pred.show()"
      ],
      "metadata": {
        "colab": {
          "base_uri": "https://localhost:8080/"
        },
        "id": "kLnC0fNXgMFK",
        "outputId": "5e9986be-587c-4c30-fd85-3612af56bb6f"
      },
      "execution_count": null,
      "outputs": [
        {
          "output_type": "stream",
          "name": "stdout",
          "text": [
            "+---+-------+-----------------+----------+----------+----------+----------+---------+---------+---------+---------+--------+-----------+---------+---------+------------+------------+--------------------+-------------+--------------------+--------------------+\n",
            "|_c0|time_id|seconds_in_bucket|bid_price1|ask_price1|bid_price2|ask_price2|bid_size1|ask_size1|bid_size2|ask_size2|stock_id|     target|     wap1|     wap2| wap_balance|total_volume|        volitality_1| volitality_2|            features|          prediction|\n",
            "+---+-------+-----------------+----------+----------+----------+----------+---------+---------+---------+---------+--------+-----------+---------+---------+------------+------------+--------------------+-------------+--------------------+--------------------+\n",
            "|  3|      5|                6| 1.0014222| 1.0023013| 1.0013704| 1.0024048|        3|      126|        2|      100|       0|0.004135767|1.0014426|1.0013907| 5.185604E-5|         231|2.924799984245053...|          0.0|[3.0,5.0,6.0,1.00...|-1.84784656537624...|\n",
            "|  9|      5|               16| 1.0014222| 1.0023013| 1.0013704| 1.0024048|        3|      126|        2|      100|       0|0.004135767|1.0014426|1.0013907| 5.185604E-5|         231|2.924799984245053...|          0.0|[9.0,5.0,16.0,1.0...|-1.84757618570675...|\n",
            "| 10|      5|               17| 1.0014222| 1.0023013| 1.0013704| 1.0024048|        3|      100|        2|      100|       0|0.004135767|1.0014478|1.0013907| 5.710125E-5|         205|2.924799984245053...|          0.0|[10.0,5.0,17.0,1....|-1.87333112831629...|\n",
            "| 11|      5|               18| 1.0014222| 1.0023013| 1.0013704| 1.0024048|        3|      126|        2|      100|       0|0.004135767|1.0014426|1.0013907| 5.185604E-5|         231|2.924799984245053...|          0.0|[11.0,5.0,18.0,1....|-1.84747891193410...|\n",
            "| 14|      5|               24| 1.0014739| 1.0028185| 1.0014222| 1.0029219|      155|       30|        3|      100|       0|0.004135767|1.0026004|1.0014659|0.0011345148|         288|2.924799984245053...|  6.496695E-5|[14.0,5.0,24.0,1....|-3.52921329746717...|\n",
            "| 17|      5|               46| 1.0028185| 1.0032322| 1.0023013| 1.0038011|      155|        1|      200|       34|       0|0.004135767|1.0032296|1.0035832|3.5357475E-4|         390|2.924799984245053...|  0.002111945|[17.0,5.0,46.0,1....|1.642017936875532...|\n",
            "| 18|      5|               47| 1.0028185| 1.0032322| 1.0023013| 1.0038011|       55|        1|      100|       34|       0|0.004135767|1.0032248|1.0034206|1.9574165E-4|         190|2.924799984245053...|-1.6201855E-4|[18.0,5.0,47.0,1....|8.996418702539571E-5|\n",
            "| 19|      5|               48| 1.0028185| 1.0032322| 1.0023531| 1.0037494|       55|      101|      103|      100|       0|0.004135767|1.0029643|1.0030615| 9.727478E-5|         359|2.924799984245053...| -3.578707E-4|[19.0,5.0,48.0,1....|-2.50926722096698...|\n",
            "| 22|      5|               55| 1.0023531| 1.0030254| 1.0023013| 1.0031805|        3|       20|      100|      100|       0|0.004135767|1.0024407| 1.002741| 3.002882E-4|         223|2.924799984245053...| 2.2194306E-4|[22.0,5.0,55.0,1....|3.216336800374204...|\n",
            "| 25|      5|               60| 1.0027668| 1.0036459| 1.0027151| 1.0037494|      100|        4|      100|      200|       0|0.004135767|1.0036122|1.0030599|5.5229664E-4|         404|2.924799984245053...|  4.432411E-4|[25.0,5.0,60.0,1....|-9.76797603868331...|\n",
            "| 26|      5|               63| 1.0028185| 1.0036459| 1.0027668| 1.0037494|       11|        4|       14|      200|       0|0.004135767|1.0034252|1.0028311| 5.941391E-4|         229|2.924799984245053...|-2.2807338E-4|[26.0,5.0,63.0,1....|-1.85558400048656...|\n",
            "| 27|      5|               68| 1.0028702| 1.0037494| 1.0028185| 1.0038011|      100|      100|       11|       34|       0|0.004135767|1.0033097|1.0030587|2.5105476E-4|         245|2.924799984245053...| 2.2694873E-4|[27.0,5.0,68.0,1....|-1.40503068802698...|\n",
            "| 31|      5|               81|  1.003284| 1.0041631| 1.0031805| 1.0043182|      124|        9|       28|       20|       0|0.004135767|1.0041035|1.0038441| 2.593994E-4|         181|2.924799984245053...|          0.0|[31.0,5.0,81.0,1....|-3.08064518652938...|\n",
            "| 32|      5|               83|  1.003284| 1.0041631| 1.0031805| 1.0043182|      119|        9|       28|       20|       0|0.004135767|1.0041013|1.0038441|2.5713444E-4|         176|2.924799984245053...|          0.0|[32.0,5.0,83.0,1....|-3.05289904442276...|\n",
            "| 33|      5|               85|  1.003284| 1.0041631| 1.0031805| 1.0043182|      122|        9|       28|       20|       0|0.004135767|1.0041027|1.0038441|2.5856495E-4|         179|2.924799984245053...|          0.0|[33.0,5.0,85.0,1....|-3.06941805278656...|\n",
            "| 35|      5|               92|  1.003284| 1.0041631| 1.0027668| 1.0043182|      222|        9|      214|       20|       0|0.004135767|1.0041289|1.0041856|5.6624413E-5|         465|2.924799984245053...| 3.4004627E-4|[35.0,5.0,92.0,1....|1.176354778774889...|\n",
            "| 39|      5|               98|  1.003284| 1.0041631| 1.0031805| 1.0043182|      219|        9|       27|       22|       0|0.004135767|1.0041285|1.0038074|3.2103062E-4|         277|2.924799984245053...|          0.0|[39.0,5.0,98.0,1....|-5.01188603860376...|\n",
            "| 40|      5|              101|  1.003284| 1.0041631| 1.0032322| 1.0042149|      119|        9|      100|        2|       0|0.004135767|1.0041013|1.0041956| 9.429455E-5|         230|2.924799984245053...| 3.8664017E-4|[40.0,5.0,101.0,1...|1.299976823526836...|\n",
            "| 44|      5|              110|  1.003284| 1.0041631| 1.0032322| 1.0042149|      119|        7|      127|      102|       0|0.004135767|1.0041143|1.0037773|3.3700466E-4|         355|2.924799984245053...|          0.0|[44.0,5.0,110.0,1...|-3.39760666423225...|\n",
            "| 47|      5|              114| 1.0033357| 1.0042149|  1.003284| 1.0043182|      300|      102|      119|       20|       0|0.004135767|1.0039918|1.0041693|1.7750263E-4|         541|2.924799984245053...|-1.1920936E-6|[47.0,5.0,114.0,1...|1.146656739013495...|\n",
            "+---+-------+-----------------+----------+----------+----------+----------+---------+---------+---------+---------+--------+-----------+---------+---------+------------+------------+--------------------+-------------+--------------------+--------------------+\n",
            "only showing top 20 rows\n",
            "\n"
          ]
        }
      ]
    },
    {
      "cell_type": "markdown",
      "source": [],
      "metadata": {
        "id": "yqiM64zAo38J"
      }
    },
    {
      "cell_type": "markdown",
      "source": [
        "# Plotting Actual and Predicted"
      ],
      "metadata": {
        "id": "evVuqIBWo39f"
      }
    },
    {
      "cell_type": "code",
      "source": [
        "import matplotlib.pyplot as plt "
      ],
      "metadata": {
        "id": "Fes3J5AogRCS"
      },
      "execution_count": null,
      "outputs": []
    },
    {
      "cell_type": "code",
      "source": [
        "prediced = pred.select(pred.columns[20:]).show()"
      ],
      "metadata": {
        "colab": {
          "base_uri": "https://localhost:8080/"
        },
        "id": "XqqgkCYDgiiy",
        "outputId": "47eac59f-254f-41b7-cd04-4b6392d26057"
      },
      "execution_count": null,
      "outputs": [
        {
          "output_type": "stream",
          "name": "stdout",
          "text": [
            "+--------------------+\n",
            "|          prediction|\n",
            "+--------------------+\n",
            "|-1.84784656537624...|\n",
            "|-1.84757618570675...|\n",
            "|-1.87333112831629...|\n",
            "|-1.84747891193410...|\n",
            "|-3.52921329746717...|\n",
            "|1.642017936875532...|\n",
            "|8.996418702539571E-5|\n",
            "|-2.50926722096698...|\n",
            "|3.216336800374204...|\n",
            "|-9.76797603868331...|\n",
            "|-1.85558400048656...|\n",
            "|-1.40503068802698...|\n",
            "|-3.08064518652938...|\n",
            "|-3.05289904442276...|\n",
            "|-3.06941805278656...|\n",
            "|1.176354778774889...|\n",
            "|-5.01188603860376...|\n",
            "|1.299976823526836...|\n",
            "|-3.39760666423225...|\n",
            "|1.146656739013495...|\n",
            "+--------------------+\n",
            "only showing top 20 rows\n",
            "\n"
          ]
        }
      ]
    },
    {
      "cell_type": "markdown",
      "source": [],
      "metadata": {
        "id": "DydVHjmoi6Ho"
      }
    },
    {
      "cell_type": "code",
      "source": [
        "y_actual = [val.volitality_2 for val in test.select('volitality_2').collect()]\n",
        "y_pred = [pre.prediction for pre in pred.select('prediction').collect()]\n",
        "\n",
        "plt.plot(y_pred, color='red', label='Predicted')\n",
        "#plt.plot(y_actual, color='blue', label='True Values')\n",
        "\n",
        "plt.ylabel('Predicted')\n",
        "plt.xlabel('Samples')\n",
        "plt.title('Predicted Values')\n",
        "#plt.legend(['asn_val'], loc='upper left')\n",
        "\n",
        "plt.show()"
      ],
      "metadata": {
        "colab": {
          "base_uri": "https://localhost:8080/",
          "height": 295
        },
        "id": "2pkNNUzKjLUa",
        "outputId": "4360c666-362a-4362-fedc-5b36a27e9c67"
      },
      "execution_count": null,
      "outputs": [
        {
          "output_type": "display_data",
          "data": {
            "text/plain": [
              "<Figure size 432x288 with 1 Axes>"
            ],
            "image/png": "[encoded data removed]"
          },
          "metadata": {
            "needs_background": "light"
          }
        }
      ]
    },
    {
      "cell_type": "code",
      "source": [
        "plt.plot(y_actual, color='blue', label='True Values')\n",
        "\n",
        "plt.ylabel('Actual Values')\n",
        "plt.xlabel('Samples')\n",
        "plt.title('Actual Values')\n",
        "#plt.legend(['asn_val'], loc='upper left')\n",
        "\n",
        "plt.show()"
      ],
      "metadata": {
        "colab": {
          "base_uri": "https://localhost:8080/",
          "height": 295
        },
        "id": "KgGp-o8gnL_5",
        "outputId": "0e14f574-d135-44bd-a703-bf9d0e840a75"
      },
      "execution_count": null,
      "outputs": [
        {
          "output_type": "display_data",
          "data": {
            "text/plain": [
              "<Figure size 432x288 with 1 Axes>"
            ],
            "image/png": "[encoded data removed]"
          },
          "metadata": {
            "needs_background": "light"
          }
        }
      ]
    },
    {
      "cell_type": "code",
      "source": [
        "plt.plot(y_actual, color='blue', label='True Values')\n",
        "\n",
        "plt.plot(y_pred, color='red', label='Predicted')\n",
        "\n",
        "plt.ylabel('Predicted')\n",
        "plt.xlabel('Samples')\n",
        "plt.title('Predicted Values')\n",
        "plt.legend(['Actual', 'Predicted'], loc='upper left')\n",
        "\n",
        "plt.show()"
      ],
      "metadata": {
        "colab": {
          "base_uri": "https://localhost:8080/",
          "height": 295
        },
        "id": "cF-_2XKx294d",
        "outputId": "3fa1e99b-e2bc-4514-c005-183c9b5a81a2"
      },
      "execution_count": null,
      "outputs": [
        {
          "output_type": "display_data",
          "data": {
            "text/plain": [
              "<Figure size 432x288 with 1 Axes>"
            ],
            "image/png": "[encoded data removed]"
          },
          "metadata": {
            "needs_background": "light"
          }
        }
      ]
    },
    {
      "cell_type": "code",
      "source": [],
      "metadata": {
        "id": "qCfMxAc33Nwg"
      },
      "execution_count": null,
      "outputs": []
    }
  ]
}